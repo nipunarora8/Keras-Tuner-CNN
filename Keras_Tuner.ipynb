{
  "nbformat": 4,
  "nbformat_minor": 0,
  "metadata": {
    "colab": {
      "name": "Keras Tuner.ipynb",
      "provenance": [],
      "collapsed_sections": [],
      "machine_shape": "hm",
      "include_colab_link": true
    },
    "kernelspec": {
      "name": "python3",
      "display_name": "Python 3"
    },
    "language_info": {
      "name": "python"
    },
    "accelerator": "GPU"
  },
  "cells": [
    {
      "cell_type": "markdown",
      "metadata": {
        "id": "view-in-github",
        "colab_type": "text"
      },
      "source": [
        "<a href=\"https://colab.research.google.com/github/nipunarora8/Keras-Tuner-CNN/blob/main/Keras_Tuner.ipynb\" target=\"_parent\"><img src=\"https://colab.research.google.com/assets/colab-badge.svg\" alt=\"Open In Colab\"/></a>"
      ]
    },
    {
      "cell_type": "code",
      "metadata": {
        "colab": {
          "base_uri": "https://localhost:8080/"
        },
        "id": "p2fD8Qpwm79A",
        "outputId": "7e344886-b890-4682-c0b8-709df26a351a"
      },
      "source": [
        "!nvidia-smi"
      ],
      "execution_count": 2,
      "outputs": [
        {
          "output_type": "stream",
          "text": [
            "Tue May  4 15:02:46 2021       \n",
            "+-----------------------------------------------------------------------------+\n",
            "| NVIDIA-SMI 465.19.01    Driver Version: 460.32.03    CUDA Version: 11.2     |\n",
            "|-------------------------------+----------------------+----------------------+\n",
            "| GPU  Name        Persistence-M| Bus-Id        Disp.A | Volatile Uncorr. ECC |\n",
            "| Fan  Temp  Perf  Pwr:Usage/Cap|         Memory-Usage | GPU-Util  Compute M. |\n",
            "|                               |                      |               MIG M. |\n",
            "|===============================+======================+======================|\n",
            "|   0  Tesla T4            Off  | 00000000:00:04.0 Off |                    0 |\n",
            "| N/A   39C    P8     9W /  70W |      0MiB / 15109MiB |      0%      Default |\n",
            "|                               |                      |                  N/A |\n",
            "+-------------------------------+----------------------+----------------------+\n",
            "                                                                               \n",
            "+-----------------------------------------------------------------------------+\n",
            "| Processes:                                                                  |\n",
            "|  GPU   GI   CI        PID   Type   Process name                  GPU Memory |\n",
            "|        ID   ID                                                   Usage      |\n",
            "|=============================================================================|\n",
            "|  No running processes found                                                 |\n",
            "+-----------------------------------------------------------------------------+\n"
          ],
          "name": "stdout"
        }
      ]
    },
    {
      "cell_type": "code",
      "metadata": {
        "id": "hYGARUu_jMAc"
      },
      "source": [
        "!pip install -q kaggle"
      ],
      "execution_count": 3,
      "outputs": []
    },
    {
      "cell_type": "code",
      "metadata": {
        "colab": {
          "resources": {
            "http://localhost:8080/nbextensions/google.colab/files.js": {
              "data": "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",
              "ok": true,
              "headers": [
                [
                  "content-type",
                  "application/javascript"
                ]
              ],
              "status": 200,
              "status_text": "OK"
            }
          },
          "base_uri": "https://localhost:8080/",
          "height": 93
        },
        "id": "TOC4K5YSm1Gg",
        "outputId": "d5085ab6-ee45-44bb-bd50-6c96c95ada5d"
      },
      "source": [
        "from google.colab import files\n",
        "files.upload()"
      ],
      "execution_count": 4,
      "outputs": [
        {
          "output_type": "display_data",
          "data": {
            "text/html": [
              "\n",
              "     <input type=\"file\" id=\"files-b9a02ab8-5b5c-4d94-a1d6-9f803e574796\" name=\"files[]\" multiple disabled\n",
              "        style=\"border:none\" />\n",
              "     <output id=\"result-b9a02ab8-5b5c-4d94-a1d6-9f803e574796\">\n",
              "      Upload widget is only available when the cell has been executed in the\n",
              "      current browser session. Please rerun this cell to enable.\n",
              "      </output>\n",
              "      <script src=\"/nbextensions/google.colab/files.js\"></script> "
            ],
            "text/plain": [
              "<IPython.core.display.HTML object>"
            ]
          },
          "metadata": {
            "tags": []
          }
        },
        {
          "output_type": "stream",
          "text": [
            "Saving kaggle.json to kaggle.json\n"
          ],
          "name": "stdout"
        },
        {
          "output_type": "execute_result",
          "data": {
            "text/plain": [
              "{'kaggle.json': b'{\"username\":\"nipunarora8\",\"key\":\"ec69c7ba8aecd7a14c0e4c874a4e9587\"}'}"
            ]
          },
          "metadata": {
            "tags": []
          },
          "execution_count": 4
        }
      ]
    },
    {
      "cell_type": "code",
      "metadata": {
        "id": "RTOFFD3NnH7e"
      },
      "source": [
        "!mkdir ~/.kaggle "
      ],
      "execution_count": 5,
      "outputs": []
    },
    {
      "cell_type": "code",
      "metadata": {
        "id": "MCx1TvdvnPRU"
      },
      "source": [
        "!cp kaggle.json ~/.kaggle/"
      ],
      "execution_count": 6,
      "outputs": []
    },
    {
      "cell_type": "code",
      "metadata": {
        "id": "KZjVUyOwnRFX"
      },
      "source": [
        "!chmod 600 ~/.kaggle/kaggle.json"
      ],
      "execution_count": 7,
      "outputs": []
    },
    {
      "cell_type": "code",
      "metadata": {
        "colab": {
          "base_uri": "https://localhost:8080/"
        },
        "id": "S7R-pFIUnUeL",
        "outputId": "f95f26e5-4199-4007-e2d3-0fe53c964f35"
      },
      "source": [
        "!kaggle datasets download -d pranavraikokte/covid19-image-dataset"
      ],
      "execution_count": 8,
      "outputs": [
        {
          "output_type": "stream",
          "text": [
            "Downloading covid19-image-dataset.zip to /content\n",
            " 90% 142M/158M [00:01<00:00, 92.7MB/s]\n",
            "100% 158M/158M [00:02<00:00, 82.1MB/s]\n"
          ],
          "name": "stdout"
        }
      ]
    },
    {
      "cell_type": "code",
      "metadata": {
        "colab": {
          "base_uri": "https://localhost:8080/"
        },
        "id": "4BzjJ0LfnaqT",
        "outputId": "528d3af4-1642-4739-8fcd-b4b502d61fbd"
      },
      "source": [
        "!unzip /content/covid19-image-dataset.zip"
      ],
      "execution_count": 9,
      "outputs": [
        {
          "output_type": "stream",
          "text": [
            "Archive:  /content/covid19-image-dataset.zip\n",
            "  inflating: Covid19-dataset/test/Covid/0100.jpeg  \n",
            "  inflating: Covid19-dataset/test/Covid/0102.jpeg  \n",
            "  inflating: Covid19-dataset/test/Covid/0105.png  \n",
            "  inflating: Covid19-dataset/test/Covid/0106.jpeg  \n",
            "  inflating: Covid19-dataset/test/Covid/0108.jpeg  \n",
            "  inflating: Covid19-dataset/test/Covid/0111.jpg  \n",
            "  inflating: Covid19-dataset/test/Covid/0112.jpg  \n",
            "  inflating: Covid19-dataset/test/Covid/0113.jpg  \n",
            "  inflating: Covid19-dataset/test/Covid/0115.jpeg  \n",
            "  inflating: Covid19-dataset/test/Covid/0118.jpeg  \n",
            "  inflating: Covid19-dataset/test/Covid/0119.jpeg  \n",
            "  inflating: Covid19-dataset/test/Covid/0120.jpg  \n",
            "  inflating: Covid19-dataset/test/Covid/094.png  \n",
            "  inflating: Covid19-dataset/test/Covid/096.png  \n",
            "  inflating: Covid19-dataset/test/Covid/098.jpeg  \n",
            "  inflating: Covid19-dataset/test/Covid/COVID-00003b.jpg  \n",
            "  inflating: Covid19-dataset/test/Covid/COVID-00012.jpg  \n",
            "  inflating: Covid19-dataset/test/Covid/COVID-00022.jpg  \n",
            "  inflating: Covid19-dataset/test/Covid/COVID-00033.jpg  \n",
            "  inflating: Covid19-dataset/test/Covid/COVID-00037.jpg  \n",
            "  inflating: Covid19-dataset/test/Covid/auntminnie-2020_01_31_20_24_2322_2020_01_31_x-ray_coronavirus_US.jpg  \n",
            "  inflating: Covid19-dataset/test/Covid/auntminnie-a-2020_01_28_23_51_6665_2020_01_28_Vietnam_coronavirus.jpeg  \n",
            "  inflating: Covid19-dataset/test/Covid/auntminnie-b-2020_01_28_23_51_6665_2020_01_28_Vietnam_coronavirus.jpeg  \n",
            "  inflating: Covid19-dataset/test/Covid/auntminnie-c-2020_01_28_23_51_6665_2020_01_28_Vietnam_coronavirus.jpeg  \n",
            "  inflating: Covid19-dataset/test/Covid/auntminnie-d-2020_01_28_23_51_6665_2020_01_28_Vietnam_coronavirus.jpeg  \n",
            "  inflating: Covid19-dataset/test/Covid/radiopaedia-2019-novel-coronavirus-infected-pneumonia.jpg  \n",
            "  inflating: Covid19-dataset/test/Normal/0101.jpeg  \n",
            "  inflating: Covid19-dataset/test/Normal/0102.jpeg  \n",
            "  inflating: Covid19-dataset/test/Normal/0103.jpeg  \n",
            "  inflating: Covid19-dataset/test/Normal/0105.jpeg  \n",
            "  inflating: Covid19-dataset/test/Normal/0106.jpeg  \n",
            "  inflating: Covid19-dataset/test/Normal/0107.jpeg  \n",
            "  inflating: Covid19-dataset/test/Normal/0108.jpeg  \n",
            "  inflating: Covid19-dataset/test/Normal/0109.jpeg  \n",
            "  inflating: Covid19-dataset/test/Normal/0110.jpeg  \n",
            "  inflating: Covid19-dataset/test/Normal/0111.jpeg  \n",
            "  inflating: Covid19-dataset/test/Normal/0112.jpeg  \n",
            "  inflating: Covid19-dataset/test/Normal/0114.jpeg  \n",
            "  inflating: Covid19-dataset/test/Normal/0115.jpeg  \n",
            "  inflating: Covid19-dataset/test/Normal/0116.jpeg  \n",
            "  inflating: Covid19-dataset/test/Normal/0117.jpeg  \n",
            "  inflating: Covid19-dataset/test/Normal/0118.jpeg  \n",
            "  inflating: Covid19-dataset/test/Normal/0119.jpeg  \n",
            "  inflating: Covid19-dataset/test/Normal/0120.jpeg  \n",
            "  inflating: Covid19-dataset/test/Normal/0121.jpeg  \n",
            "  inflating: Covid19-dataset/test/Normal/0122.jpeg  \n",
            "  inflating: Covid19-dataset/test/Viral Pneumonia/0101.jpeg  \n",
            "  inflating: Covid19-dataset/test/Viral Pneumonia/0102.jpeg  \n",
            "  inflating: Covid19-dataset/test/Viral Pneumonia/0103.jpeg  \n",
            "  inflating: Covid19-dataset/test/Viral Pneumonia/0104.jpeg  \n",
            "  inflating: Covid19-dataset/test/Viral Pneumonia/0105.jpeg  \n",
            "  inflating: Covid19-dataset/test/Viral Pneumonia/0106.jpeg  \n",
            "  inflating: Covid19-dataset/test/Viral Pneumonia/0107.jpeg  \n",
            "  inflating: Covid19-dataset/test/Viral Pneumonia/0108.jpeg  \n",
            "  inflating: Covid19-dataset/test/Viral Pneumonia/0109.jpeg  \n",
            "  inflating: Covid19-dataset/test/Viral Pneumonia/0110.jpeg  \n",
            "  inflating: Covid19-dataset/test/Viral Pneumonia/0111.jpeg  \n",
            "  inflating: Covid19-dataset/test/Viral Pneumonia/0112.jpeg  \n",
            "  inflating: Covid19-dataset/test/Viral Pneumonia/0113.jpeg  \n",
            "  inflating: Covid19-dataset/test/Viral Pneumonia/0114.jpeg  \n",
            "  inflating: Covid19-dataset/test/Viral Pneumonia/0115.jpeg  \n",
            "  inflating: Covid19-dataset/test/Viral Pneumonia/0116.jpeg  \n",
            "  inflating: Covid19-dataset/test/Viral Pneumonia/0117.jpeg  \n",
            "  inflating: Covid19-dataset/test/Viral Pneumonia/0118.jpeg  \n",
            "  inflating: Covid19-dataset/test/Viral Pneumonia/0119.jpeg  \n",
            "  inflating: Covid19-dataset/test/Viral Pneumonia/0120.jpeg  \n",
            "  inflating: Covid19-dataset/train/Covid/01.jpeg  \n",
            "  inflating: Covid19-dataset/train/Covid/010.png  \n",
            "  inflating: Covid19-dataset/train/Covid/012.jpeg  \n",
            "  inflating: Covid19-dataset/train/Covid/015.jpg  \n",
            "  inflating: Covid19-dataset/train/Covid/019.png  \n",
            "  inflating: Covid19-dataset/train/Covid/02.jpeg  \n",
            "  inflating: Covid19-dataset/train/Covid/020.jpg  \n",
            "  inflating: Covid19-dataset/train/Covid/021.jpeg  \n",
            "  inflating: Covid19-dataset/train/Covid/022.jpeg  \n",
            "  inflating: Covid19-dataset/train/Covid/024.jpeg  \n",
            "  inflating: Covid19-dataset/train/Covid/025.jpeg  \n",
            "  inflating: Covid19-dataset/train/Covid/026.jpeg  \n",
            "  inflating: Covid19-dataset/train/Covid/027.jpeg  \n",
            "  inflating: Covid19-dataset/train/Covid/03.jpeg  \n",
            "  inflating: Covid19-dataset/train/Covid/031.jpeg  \n",
            "  inflating: Covid19-dataset/train/Covid/032.jpeg  \n",
            "  inflating: Covid19-dataset/train/Covid/033.png  \n",
            "  inflating: Covid19-dataset/train/Covid/039.jpeg  \n",
            "  inflating: Covid19-dataset/train/Covid/04.png  \n",
            "  inflating: Covid19-dataset/train/Covid/040.jpeg  \n",
            "  inflating: Covid19-dataset/train/Covid/041.jpeg  \n",
            "  inflating: Covid19-dataset/train/Covid/042.jpeg  \n",
            "  inflating: Covid19-dataset/train/Covid/043.jpeg  \n",
            "  inflating: Covid19-dataset/train/Covid/044.jpeg  \n",
            "  inflating: Covid19-dataset/train/Covid/045.jpeg  \n",
            "  inflating: Covid19-dataset/train/Covid/046.jpeg  \n",
            "  inflating: Covid19-dataset/train/Covid/047.jpeg  \n",
            "  inflating: Covid19-dataset/train/Covid/048.jpeg  \n",
            "  inflating: Covid19-dataset/train/Covid/049.jpeg  \n",
            "  inflating: Covid19-dataset/train/Covid/050.jpeg  \n",
            "  inflating: Covid19-dataset/train/Covid/051.jpeg  \n",
            "  inflating: Covid19-dataset/train/Covid/052.jpeg  \n",
            "  inflating: Covid19-dataset/train/Covid/053.jpeg  \n",
            "  inflating: Covid19-dataset/train/Covid/054.jpeg  \n",
            "  inflating: Covid19-dataset/train/Covid/055.jpeg  \n",
            "  inflating: Covid19-dataset/train/Covid/056.jpg  \n",
            "  inflating: Covid19-dataset/train/Covid/057.jpeg  \n",
            "  inflating: Covid19-dataset/train/Covid/058.jpeg  \n",
            "  inflating: Covid19-dataset/train/Covid/059.jpeg  \n",
            "  inflating: Covid19-dataset/train/Covid/06.jpeg  \n",
            "  inflating: Covid19-dataset/train/Covid/060.jpeg  \n",
            "  inflating: Covid19-dataset/train/Covid/061.jpg  \n",
            "  inflating: Covid19-dataset/train/Covid/062.jpeg  \n",
            "  inflating: Covid19-dataset/train/Covid/064.jpg  \n",
            "  inflating: Covid19-dataset/train/Covid/065.jpeg  \n",
            "  inflating: Covid19-dataset/train/Covid/067.jpg  \n",
            "  inflating: Covid19-dataset/train/Covid/068.jpg  \n",
            "  inflating: Covid19-dataset/train/Covid/069.jpg  \n",
            "  inflating: Covid19-dataset/train/Covid/07.jpg  \n",
            "  inflating: Covid19-dataset/train/Covid/071.jpg  \n",
            "  inflating: Covid19-dataset/train/Covid/072.jpeg  \n",
            "  inflating: Covid19-dataset/train/Covid/073.jpg  \n",
            "  inflating: Covid19-dataset/train/Covid/074.jpg  \n",
            "  inflating: Covid19-dataset/train/Covid/076.jpg  \n",
            "  inflating: Covid19-dataset/train/Covid/078.jpeg  \n",
            "  inflating: Covid19-dataset/train/Covid/079.jpeg  \n",
            "  inflating: Covid19-dataset/train/Covid/08.jpeg  \n",
            "  inflating: Covid19-dataset/train/Covid/080.jpg  \n",
            "  inflating: Covid19-dataset/train/Covid/081.jpeg  \n",
            "  inflating: Covid19-dataset/train/Covid/082.jpg  \n",
            "  inflating: Covid19-dataset/train/Covid/083.jpeg  \n",
            "  inflating: Covid19-dataset/train/Covid/084.jpeg  \n",
            "  inflating: Covid19-dataset/train/Covid/085.jpeg  \n",
            "  inflating: Covid19-dataset/train/Covid/086.jpg  \n",
            "  inflating: Covid19-dataset/train/Covid/088.jpeg  \n",
            "  inflating: Covid19-dataset/train/Covid/089.jpg  \n",
            "  inflating: Covid19-dataset/train/Covid/09.png  \n",
            "  inflating: Covid19-dataset/train/Covid/090.jpeg  \n",
            "  inflating: Covid19-dataset/train/Covid/091.jpg  \n",
            "  inflating: Covid19-dataset/train/Covid/092.png  \n",
            "  inflating: Covid19-dataset/train/Covid/COVID-00001.jpg  \n",
            "  inflating: Covid19-dataset/train/Covid/COVID-00002.jpg  \n",
            "  inflating: Covid19-dataset/train/Covid/COVID-00003a.jpg  \n",
            "  inflating: Covid19-dataset/train/Covid/COVID-00003b.jpg  \n",
            "  inflating: Covid19-dataset/train/Covid/COVID-00004.jpg  \n",
            "  inflating: Covid19-dataset/train/Covid/COVID-00005.jpg  \n",
            "  inflating: Covid19-dataset/train/Covid/COVID-00006.jpg  \n",
            "  inflating: Covid19-dataset/train/Covid/COVID-00007.jpg  \n",
            "  inflating: Covid19-dataset/train/Covid/COVID-00008.jpg  \n",
            "  inflating: Covid19-dataset/train/Covid/COVID-00009.jpg  \n",
            "  inflating: Covid19-dataset/train/Covid/COVID-00010.jpg  \n",
            "  inflating: Covid19-dataset/train/Covid/COVID-00011.jpg  \n",
            "  inflating: Covid19-dataset/train/Covid/COVID-00012.jpg  \n",
            "  inflating: Covid19-dataset/train/Covid/COVID-00013a.jpg  \n",
            "  inflating: Covid19-dataset/train/Covid/COVID-00013b.jpg  \n",
            "  inflating: Covid19-dataset/train/Covid/COVID-00014.jpg  \n",
            "  inflating: Covid19-dataset/train/Covid/COVID-00015a.png  \n",
            "  inflating: Covid19-dataset/train/Covid/COVID-00015b.png  \n",
            "  inflating: Covid19-dataset/train/Covid/COVID-00016.jpg  \n",
            "  inflating: Covid19-dataset/train/Covid/COVID-00017.jpg  \n",
            "  inflating: Covid19-dataset/train/Covid/COVID-00018.jpg  \n",
            "  inflating: Covid19-dataset/train/Covid/COVID-00019.jpg  \n",
            "  inflating: Covid19-dataset/train/Covid/COVID-00020.jpg  \n",
            "  inflating: Covid19-dataset/train/Covid/COVID-00021.jpg  \n",
            "  inflating: Covid19-dataset/train/Covid/COVID-00022.jpg  \n",
            "  inflating: Covid19-dataset/train/Covid/COVID-00023.jpg  \n",
            "  inflating: Covid19-dataset/train/Covid/COVID-00024.jpg  \n",
            "  inflating: Covid19-dataset/train/Covid/COVID-00025.jpg  \n",
            "  inflating: Covid19-dataset/train/Covid/COVID-00026.jpg  \n",
            "  inflating: Covid19-dataset/train/Covid/COVID-00027.jpg  \n",
            "  inflating: Covid19-dataset/train/Covid/COVID-00028.jpg  \n",
            "  inflating: Covid19-dataset/train/Covid/COVID-00029.jpg  \n",
            "  inflating: Covid19-dataset/train/Covid/COVID-00030.jpg  \n",
            "  inflating: Covid19-dataset/train/Covid/COVID-00031.jpg  \n",
            "  inflating: Covid19-dataset/train/Covid/COVID-00032.jpg  \n",
            "  inflating: Covid19-dataset/train/Covid/COVID-00033.jpg  \n",
            "  inflating: Covid19-dataset/train/Covid/COVID-00034.jpg  \n",
            "  inflating: Covid19-dataset/train/Covid/COVID-00035.jpg  \n",
            "  inflating: Covid19-dataset/train/Covid/COVID-00036.jpg  \n",
            "  inflating: Covid19-dataset/train/Covid/COVID-00037.jpg  \n",
            "  inflating: Covid19-dataset/train/Covid/COVID-00038.jpg  \n",
            "  inflating: Covid19-dataset/train/Normal/01.jpeg  \n",
            "  inflating: Covid19-dataset/train/Normal/010.jpeg  \n",
            "  inflating: Covid19-dataset/train/Normal/011.jpeg  \n",
            "  inflating: Covid19-dataset/train/Normal/012.jpeg  \n",
            "  inflating: Covid19-dataset/train/Normal/013.jpeg  \n",
            "  inflating: Covid19-dataset/train/Normal/014.jpeg  \n",
            "  inflating: Covid19-dataset/train/Normal/015.jpeg  \n",
            "  inflating: Covid19-dataset/train/Normal/016.jpeg  \n",
            "  inflating: Covid19-dataset/train/Normal/017.jpeg  \n",
            "  inflating: Covid19-dataset/train/Normal/018.jpeg  \n",
            "  inflating: Covid19-dataset/train/Normal/019.jpeg  \n",
            "  inflating: Covid19-dataset/train/Normal/02.jpeg  \n",
            "  inflating: Covid19-dataset/train/Normal/020.jpeg  \n",
            "  inflating: Covid19-dataset/train/Normal/021.jpeg  \n",
            "  inflating: Covid19-dataset/train/Normal/022.jpeg  \n",
            "  inflating: Covid19-dataset/train/Normal/023.jpeg  \n",
            "  inflating: Covid19-dataset/train/Normal/024.jpeg  \n",
            "  inflating: Covid19-dataset/train/Normal/025.jpeg  \n",
            "  inflating: Covid19-dataset/train/Normal/03.jpeg  \n",
            "  inflating: Covid19-dataset/train/Normal/04.jpeg  \n",
            "  inflating: Covid19-dataset/train/Normal/05.jpeg  \n",
            "  inflating: Covid19-dataset/train/Normal/050.jpeg  \n",
            "  inflating: Covid19-dataset/train/Normal/051.jpeg  \n",
            "  inflating: Covid19-dataset/train/Normal/052.jpeg  \n",
            "  inflating: Covid19-dataset/train/Normal/053.jpeg  \n",
            "  inflating: Covid19-dataset/train/Normal/054.jpeg  \n",
            "  inflating: Covid19-dataset/train/Normal/055.jpeg  \n",
            "  inflating: Covid19-dataset/train/Normal/056.jpeg  \n",
            "  inflating: Covid19-dataset/train/Normal/057.jpeg  \n",
            "  inflating: Covid19-dataset/train/Normal/058.jpeg  \n",
            "  inflating: Covid19-dataset/train/Normal/059.jpeg  \n",
            "  inflating: Covid19-dataset/train/Normal/06.jpeg  \n",
            "  inflating: Covid19-dataset/train/Normal/060.jpeg  \n",
            "  inflating: Covid19-dataset/train/Normal/061.jpeg  \n",
            "  inflating: Covid19-dataset/train/Normal/062.jpeg  \n",
            "  inflating: Covid19-dataset/train/Normal/063.jpeg  \n",
            "  inflating: Covid19-dataset/train/Normal/064.jpeg  \n",
            "  inflating: Covid19-dataset/train/Normal/065.jpeg  \n",
            "  inflating: Covid19-dataset/train/Normal/066.jpeg  \n",
            "  inflating: Covid19-dataset/train/Normal/067.jpeg  \n",
            "  inflating: Covid19-dataset/train/Normal/068.jpeg  \n",
            "  inflating: Covid19-dataset/train/Normal/069.jpeg  \n",
            "  inflating: Covid19-dataset/train/Normal/07.jpeg  \n",
            "  inflating: Covid19-dataset/train/Normal/070.jpeg  \n",
            "  inflating: Covid19-dataset/train/Normal/071.jpeg  \n",
            "  inflating: Covid19-dataset/train/Normal/072.jpeg  \n",
            "  inflating: Covid19-dataset/train/Normal/073.jpeg  \n",
            "  inflating: Covid19-dataset/train/Normal/074.jpeg  \n",
            "  inflating: Covid19-dataset/train/Normal/075.jpeg  \n",
            "  inflating: Covid19-dataset/train/Normal/076.jpeg  \n",
            "  inflating: Covid19-dataset/train/Normal/077.jpeg  \n",
            "  inflating: Covid19-dataset/train/Normal/079.jpeg  \n",
            "  inflating: Covid19-dataset/train/Normal/08.jpeg  \n",
            "  inflating: Covid19-dataset/train/Normal/080.jpeg  \n",
            "  inflating: Covid19-dataset/train/Normal/081.jpeg  \n",
            "  inflating: Covid19-dataset/train/Normal/082.jpeg  \n",
            "  inflating: Covid19-dataset/train/Normal/083.jpeg  \n",
            "  inflating: Covid19-dataset/train/Normal/084.jpeg  \n",
            "  inflating: Covid19-dataset/train/Normal/085.jpeg  \n",
            "  inflating: Covid19-dataset/train/Normal/086.jpeg  \n",
            "  inflating: Covid19-dataset/train/Normal/087.jpeg  \n",
            "  inflating: Covid19-dataset/train/Normal/088.jpeg  \n",
            "  inflating: Covid19-dataset/train/Normal/09.jpeg  \n",
            "  inflating: Covid19-dataset/train/Normal/091.jpeg  \n",
            "  inflating: Covid19-dataset/train/Normal/092.jpeg  \n",
            "  inflating: Covid19-dataset/train/Normal/093.jpeg  \n",
            "  inflating: Covid19-dataset/train/Normal/094.jpeg  \n",
            "  inflating: Covid19-dataset/train/Normal/095.jpeg  \n",
            "  inflating: Covid19-dataset/train/Normal/096.jpeg  \n",
            "  inflating: Covid19-dataset/train/Normal/097.jpeg  \n",
            "  inflating: Covid19-dataset/train/Viral Pneumonia/01.jpeg  \n",
            "  inflating: Covid19-dataset/train/Viral Pneumonia/010.jpeg  \n",
            "  inflating: Covid19-dataset/train/Viral Pneumonia/011.jpeg  \n",
            "  inflating: Covid19-dataset/train/Viral Pneumonia/012.jpeg  \n",
            "  inflating: Covid19-dataset/train/Viral Pneumonia/013.jpeg  \n",
            "  inflating: Covid19-dataset/train/Viral Pneumonia/016.jpeg  \n",
            "  inflating: Covid19-dataset/train/Viral Pneumonia/018.jpeg  \n",
            "  inflating: Covid19-dataset/train/Viral Pneumonia/019.jpeg  \n",
            "  inflating: Covid19-dataset/train/Viral Pneumonia/02.jpeg  \n",
            "  inflating: Covid19-dataset/train/Viral Pneumonia/020.jpeg  \n",
            "  inflating: Covid19-dataset/train/Viral Pneumonia/021.jpeg  \n",
            "  inflating: Covid19-dataset/train/Viral Pneumonia/022.jpeg  \n",
            "  inflating: Covid19-dataset/train/Viral Pneumonia/023.jpeg  \n",
            "  inflating: Covid19-dataset/train/Viral Pneumonia/024.jpeg  \n",
            "  inflating: Covid19-dataset/train/Viral Pneumonia/025.jpeg  \n",
            "  inflating: Covid19-dataset/train/Viral Pneumonia/027.jpeg  \n",
            "  inflating: Covid19-dataset/train/Viral Pneumonia/03.jpeg  \n",
            "  inflating: Covid19-dataset/train/Viral Pneumonia/031.jpeg  \n",
            "  inflating: Covid19-dataset/train/Viral Pneumonia/032.jpeg  \n",
            "  inflating: Covid19-dataset/train/Viral Pneumonia/033.jpeg  \n",
            "  inflating: Covid19-dataset/train/Viral Pneumonia/034.jpeg  \n",
            "  inflating: Covid19-dataset/train/Viral Pneumonia/035.jpeg  \n",
            "  inflating: Covid19-dataset/train/Viral Pneumonia/036.jpeg  \n",
            "  inflating: Covid19-dataset/train/Viral Pneumonia/037.jpeg  \n",
            "  inflating: Covid19-dataset/train/Viral Pneumonia/038.jpeg  \n",
            "  inflating: Covid19-dataset/train/Viral Pneumonia/04.jpeg  \n",
            "  inflating: Covid19-dataset/train/Viral Pneumonia/041.jpeg  \n",
            "  inflating: Covid19-dataset/train/Viral Pneumonia/042.jpeg  \n",
            "  inflating: Covid19-dataset/train/Viral Pneumonia/043.jpeg  \n",
            "  inflating: Covid19-dataset/train/Viral Pneumonia/044.jpeg  \n",
            "  inflating: Covid19-dataset/train/Viral Pneumonia/045.jpeg  \n",
            "  inflating: Covid19-dataset/train/Viral Pneumonia/046.jpeg  \n",
            "  inflating: Covid19-dataset/train/Viral Pneumonia/047.jpeg  \n",
            "  inflating: Covid19-dataset/train/Viral Pneumonia/048.jpeg  \n",
            "  inflating: Covid19-dataset/train/Viral Pneumonia/05.jpeg  \n",
            "  inflating: Covid19-dataset/train/Viral Pneumonia/051.jpeg  \n",
            "  inflating: Covid19-dataset/train/Viral Pneumonia/052.jpeg  \n",
            "  inflating: Covid19-dataset/train/Viral Pneumonia/053.jpeg  \n",
            "  inflating: Covid19-dataset/train/Viral Pneumonia/054.jpeg  \n",
            "  inflating: Covid19-dataset/train/Viral Pneumonia/055.jpeg  \n",
            "  inflating: Covid19-dataset/train/Viral Pneumonia/056.jpeg  \n",
            "  inflating: Covid19-dataset/train/Viral Pneumonia/057.jpeg  \n",
            "  inflating: Covid19-dataset/train/Viral Pneumonia/058.jpeg  \n",
            "  inflating: Covid19-dataset/train/Viral Pneumonia/06.jpeg  \n",
            "  inflating: Covid19-dataset/train/Viral Pneumonia/061.jpeg  \n",
            "  inflating: Covid19-dataset/train/Viral Pneumonia/062.jpeg  \n",
            "  inflating: Covid19-dataset/train/Viral Pneumonia/063.jpeg  \n",
            "  inflating: Covid19-dataset/train/Viral Pneumonia/064.jpeg  \n",
            "  inflating: Covid19-dataset/train/Viral Pneumonia/065.jpeg  \n",
            "  inflating: Covid19-dataset/train/Viral Pneumonia/066.jpeg  \n",
            "  inflating: Covid19-dataset/train/Viral Pneumonia/067.jpeg  \n",
            "  inflating: Covid19-dataset/train/Viral Pneumonia/068.jpeg  \n",
            "  inflating: Covid19-dataset/train/Viral Pneumonia/07.jpeg  \n",
            "  inflating: Covid19-dataset/train/Viral Pneumonia/071.jpeg  \n",
            "  inflating: Covid19-dataset/train/Viral Pneumonia/072.jpeg  \n",
            "  inflating: Covid19-dataset/train/Viral Pneumonia/073.jpeg  \n",
            "  inflating: Covid19-dataset/train/Viral Pneumonia/074.jpeg  \n",
            "  inflating: Covid19-dataset/train/Viral Pneumonia/075.jpeg  \n",
            "  inflating: Covid19-dataset/train/Viral Pneumonia/076.jpeg  \n",
            "  inflating: Covid19-dataset/train/Viral Pneumonia/077.jpeg  \n",
            "  inflating: Covid19-dataset/train/Viral Pneumonia/078.jpeg  \n",
            "  inflating: Covid19-dataset/train/Viral Pneumonia/08.jpeg  \n",
            "  inflating: Covid19-dataset/train/Viral Pneumonia/081.jpeg  \n",
            "  inflating: Covid19-dataset/train/Viral Pneumonia/082.jpeg  \n",
            "  inflating: Covid19-dataset/train/Viral Pneumonia/083.jpeg  \n",
            "  inflating: Covid19-dataset/train/Viral Pneumonia/084.jpeg  \n",
            "  inflating: Covid19-dataset/train/Viral Pneumonia/09.jpeg  \n",
            "  inflating: Covid19-dataset/train/Viral Pneumonia/094.jpeg  \n",
            "  inflating: Covid19-dataset/train/Viral Pneumonia/095.jpeg  \n",
            "  inflating: Covid19-dataset/train/Viral Pneumonia/096.jpeg  \n"
          ],
          "name": "stdout"
        }
      ]
    },
    {
      "cell_type": "code",
      "metadata": {
        "colab": {
          "base_uri": "https://localhost:8080/"
        },
        "id": "o9qzo41EL7yt",
        "outputId": "337353db-0b2e-4332-aa06-4d9496be79e9"
      },
      "source": [
        "from keras.preprocessing.image import ImageDataGenerator\n",
        "from keras.utils import to_categorical\n",
        "\n",
        "train_datagen = ImageDataGenerator(  \n",
        "                      shear_range=0.2, \n",
        "                      zoom_range=0.2,  \n",
        "                      horizontal_flip=True,                \n",
        "                      rescale=1./255, \n",
        "                      )\n",
        "\n",
        "test_datagen = ImageDataGenerator(rescale=1./255)\n",
        "\n",
        "\n",
        "train = train_datagen.flow_from_directory('/content/Covid19-dataset/train',\n",
        "                                                  target_size=(224,224),\n",
        "                                                  batch_size=32,\n",
        "                                                  shuffle=True,\n",
        "                                                  class_mode='categorical')\n",
        "\n",
        "test = test_datagen.flow_from_directory('/content/Covid19-dataset/test',\n",
        "                                                       target_size=(224,224),\n",
        "                                                       batch_size=32,\n",
        "                                                       shuffle=True,\n",
        "                                                       class_mode='categorical'\n",
        "                                                       )"
      ],
      "execution_count": 330,
      "outputs": [
        {
          "output_type": "stream",
          "text": [
            "Found 251 images belonging to 3 classes.\n",
            "Found 66 images belonging to 3 classes.\n"
          ],
          "name": "stdout"
        }
      ]
    },
    {
      "cell_type": "code",
      "metadata": {
        "colab": {
          "base_uri": "https://localhost:8080/",
          "height": 287
        },
        "id": "OVZkDY1ktRbw",
        "outputId": "d7ab8188-7450-4339-a23e-4a33fe0673a6"
      },
      "source": [
        "import matplotlib.pyplot as plt\n",
        "plt.imshow(train[0][0][0])"
      ],
      "execution_count": 357,
      "outputs": [
        {
          "output_type": "execute_result",
          "data": {
            "text/plain": [
              "<matplotlib.image.AxesImage at 0x7fadda1aeb50>"
            ]
          },
          "metadata": {
            "tags": []
          },
          "execution_count": 357
        },
        {
          "output_type": "display_data",
          "data": {
            "image/png": "[encoded data removed]",
            "text/plain": [
              "<Figure size 432x288 with 1 Axes>"
            ]
          },
          "metadata": {
            "tags": [],
            "needs_background": "light"
          }
        }
      ]
    },
    {
      "cell_type": "code",
      "metadata": {
        "id": "AoaahzHbyqug"
      },
      "source": [
        "from keras.layers import *\n",
        "from keras.models import *\n",
        "from keras.callbacks import *"
      ],
      "execution_count": 305,
      "outputs": []
    },
    {
      "cell_type": "code",
      "metadata": {
        "colab": {
          "base_uri": "https://localhost:8080/"
        },
        "id": "6YtBDuTMxig-",
        "outputId": "7f7d6683-31e1-41ea-f058-34833d17e7f2"
      },
      "source": [
        "!pip install keras-tuner"
      ],
      "execution_count": null,
      "outputs": [
        {
          "output_type": "stream",
          "text": [
            "Requirement already satisfied: keras-tuner in /usr/local/lib/python3.7/dist-packages (1.0.2)\n",
            "Requirement already satisfied: terminaltables in /usr/local/lib/python3.7/dist-packages (from keras-tuner) (3.1.0)\n",
            "Requirement already satisfied: tqdm in /usr/local/lib/python3.7/dist-packages (from keras-tuner) (4.41.1)\n",
            "Requirement already satisfied: future in /usr/local/lib/python3.7/dist-packages (from keras-tuner) (0.16.0)\n",
            "Requirement already satisfied: packaging in /usr/local/lib/python3.7/dist-packages (from keras-tuner) (20.9)\n",
            "Requirement already satisfied: requests in /usr/local/lib/python3.7/dist-packages (from keras-tuner) (2.23.0)\n",
            "Requirement already satisfied: scikit-learn in /usr/local/lib/python3.7/dist-packages (from keras-tuner) (0.22.2.post1)\n",
            "Requirement already satisfied: numpy in /usr/local/lib/python3.7/dist-packages (from keras-tuner) (1.19.5)\n",
            "Requirement already satisfied: scipy in /usr/local/lib/python3.7/dist-packages (from keras-tuner) (1.4.1)\n",
            "Requirement already satisfied: colorama in /usr/local/lib/python3.7/dist-packages (from keras-tuner) (0.4.4)\n",
            "Requirement already satisfied: tabulate in /usr/local/lib/python3.7/dist-packages (from keras-tuner) (0.8.9)\n",
            "Requirement already satisfied: pyparsing>=2.0.2 in /usr/local/lib/python3.7/dist-packages (from packaging->keras-tuner) (2.4.7)\n",
            "Requirement already satisfied: chardet<4,>=3.0.2 in /usr/local/lib/python3.7/dist-packages (from requests->keras-tuner) (3.0.4)\n",
            "Requirement already satisfied: certifi>=2017.4.17 in /usr/local/lib/python3.7/dist-packages (from requests->keras-tuner) (2020.12.5)\n",
            "Requirement already satisfied: idna<3,>=2.5 in /usr/local/lib/python3.7/dist-packages (from requests->keras-tuner) (2.10)\n",
            "Requirement already satisfied: urllib3!=1.25.0,!=1.25.1,<1.26,>=1.21.1 in /usr/local/lib/python3.7/dist-packages (from requests->keras-tuner) (1.24.3)\n",
            "Requirement already satisfied: joblib>=0.11 in /usr/local/lib/python3.7/dist-packages (from scikit-learn->keras-tuner) (1.0.1)\n"
          ],
          "name": "stdout"
        }
      ]
    },
    {
      "cell_type": "code",
      "metadata": {
        "id": "zDGCrS3-xwfU"
      },
      "source": [
        "def build_model(hp):  \n",
        "  model = keras.Sequential([\n",
        "    keras.layers.Conv2D(\n",
        "        filters=hp.Int('conv_1_filter', min_value=32, max_value=128, step=16),\n",
        "        kernel_size=hp.Choice('conv_1_kernel', values = [3,5]),\n",
        "        activation='relu',\n",
        "        input_shape=(224,224,3)\n",
        "    ),\n",
        "    keras.layers.Conv2D(\n",
        "        filters=hp.Int('conv_2_filter', min_value=32, max_value=64, step=16),\n",
        "        kernel_size=hp.Choice('conv_2_kernel', values = [3,5]),\n",
        "        activation='relu'\n",
        "    ),\n",
        "    keras.layers.MaxPool2D(\n",
        "        pool_size = hp.Choice('pool_1_size', values = [3,5])\n",
        "      ),\n",
        "    keras.layers.Dropout(0.3),\n",
        "    keras.layers.Conv2D(\n",
        "        filters=hp.Int('conv_3_filter', min_value=32, max_value=64, step=16),\n",
        "        kernel_size=hp.Choice('conv_3_kernel', values = [3,5]),\n",
        "        activation='relu'\n",
        "    ),\n",
        "\n",
        "    keras.layers.Flatten(),\n",
        "    keras.layers.Dense(\n",
        "        units=hp.Int('dense_1_units', min_value=32, max_value=128, step=16),\n",
        "        activation='relu'\n",
        "    ),\n",
        "    keras.layers.Dense(3, activation='softmax')\n",
        "  ])\n",
        "  \n",
        "  model.compile(optimizer=keras.optimizers.Adam(hp.Choice('learning_rate', values=[1e-2, 1e-3])),\n",
        "              loss='categorical_crossentropy',\n",
        "              metrics=['accuracy'])\n",
        "  \n",
        "  return model"
      ],
      "execution_count": 336,
      "outputs": []
    },
    {
      "cell_type": "code",
      "metadata": {
        "id": "L4T-RexXyJxz"
      },
      "source": [
        "from kerastuner import RandomSearch\n",
        "from kerastuner.engine.hyperparameters import HyperParameters"
      ],
      "execution_count": 337,
      "outputs": []
    },
    {
      "cell_type": "code",
      "metadata": {
        "id": "mltKstpxyMeR",
        "colab": {
          "base_uri": "https://localhost:8080/"
        },
        "outputId": "7fc4252f-9b94-4b93-94a4-3c405d974118"
      },
      "source": [
        "tuner_search=RandomSearch(build_model,\n",
        "                          objective='val_accuracy',\n",
        "                          max_trials=20,directory='output',project_name=\"Covid\")"
      ],
      "execution_count": 338,
      "outputs": [
        {
          "output_type": "stream",
          "text": [
            "INFO:tensorflow:Reloading Oracle from existing project covid_out/Covid/oracle.json\n",
            "INFO:tensorflow:Reloading Tuner from covid_out/Covid/tuner0.json\n"
          ],
          "name": "stdout"
        }
      ]
    },
    {
      "cell_type": "code",
      "metadata": {
        "colab": {
          "base_uri": "https://localhost:8080/"
        },
        "id": "pX5s7XBuyUAS",
        "outputId": "ccf1732c-fb5d-4c53-8bde-c7f3ad3dc933"
      },
      "source": [
        "tuner_search.search(train,epochs = 50, callbacks=[EarlyStopping(monitor='val_loss', mode='min',patience=5)], validation_data=(test))"
      ],
      "execution_count": 339,
      "outputs": [
        {
          "output_type": "stream",
          "text": [
            "Trial 7 Complete [00h 07m 18s]\n",
            "val_accuracy: 0.9545454382896423\n",
            "\n",
            "Best val_accuracy So Far: 0.9696969985961914\n",
            "Total elapsed time: 00h 49m 19s\n",
            "INFO:tensorflow:Oracle triggered exit\n"
          ],
          "name": "stdout"
        }
      ]
    },
    {
      "cell_type": "code",
      "metadata": {
        "colab": {
          "base_uri": "https://localhost:8080/"
        },
        "id": "0s-yHax-P19C",
        "outputId": "ac1f2299-2cf2-4f5f-8fc7-a0ae9b0018ae"
      },
      "source": [
        "tuner_search.results_summary()"
      ],
      "execution_count": 340,
      "outputs": [
        {
          "output_type": "stream",
          "text": [
            "Results summary\n",
            "Results in covid_out/Covid\n",
            "Showing 10 best trials\n",
            "Objective(name='val_accuracy', direction='max')\n",
            "Trial summary\n",
            "Hyperparameters:\n",
            "conv_1_filter: 96\n",
            "conv_1_kernel: 3\n",
            "conv_2_filter: 48\n",
            "conv_2_kernel: 3\n",
            "pool_1_size: 3\n",
            "conv_3_filter: 64\n",
            "conv_3_kernel: 3\n",
            "dense_1_units: 96\n",
            "learning_rate: 0.001\n",
            "Score: 0.9696969985961914\n",
            "Trial summary\n",
            "Hyperparameters:\n",
            "conv_1_filter: 96\n",
            "conv_1_kernel: 3\n",
            "conv_2_filter: 48\n",
            "conv_2_kernel: 5\n",
            "pool_1_size: 5\n",
            "conv_3_filter: 32\n",
            "conv_3_kernel: 5\n",
            "dense_1_units: 96\n",
            "learning_rate: 0.001\n",
            "Score: 0.9545454382896423\n",
            "Trial summary\n",
            "Hyperparameters:\n",
            "conv_1_filter: 128\n",
            "conv_1_kernel: 3\n",
            "conv_2_filter: 48\n",
            "conv_2_kernel: 5\n",
            "pool_1_size: 3\n",
            "conv_3_filter: 32\n",
            "conv_3_kernel: 3\n",
            "dense_1_units: 96\n",
            "learning_rate: 0.001\n",
            "Score: 0.9545454382896423\n",
            "Trial summary\n",
            "Hyperparameters:\n",
            "conv_1_filter: 112\n",
            "conv_1_kernel: 3\n",
            "conv_2_filter: 32\n",
            "conv_2_kernel: 3\n",
            "pool_1_size: 5\n",
            "conv_3_filter: 48\n",
            "conv_3_kernel: 5\n",
            "dense_1_units: 112\n",
            "learning_rate: 0.01\n",
            "Score: 0.8939393758773804\n",
            "Trial summary\n",
            "Hyperparameters:\n",
            "conv_1_filter: 64\n",
            "conv_1_kernel: 5\n",
            "conv_2_filter: 48\n",
            "conv_2_kernel: 3\n",
            "pool_1_size: 5\n",
            "conv_3_filter: 48\n",
            "conv_3_kernel: 5\n",
            "dense_1_units: 96\n",
            "learning_rate: 0.01\n",
            "Score: 0.8333333134651184\n",
            "Trial summary\n",
            "Hyperparameters:\n",
            "conv_1_filter: 64\n",
            "conv_1_kernel: 3\n",
            "conv_2_filter: 64\n",
            "conv_2_kernel: 3\n",
            "pool_1_size: 3\n",
            "conv_3_filter: 64\n",
            "conv_3_kernel: 3\n",
            "dense_1_units: 48\n",
            "learning_rate: 0.001\n",
            "Score: 0.6666666865348816\n",
            "Trial summary\n",
            "Hyperparameters:\n",
            "conv_1_filter: 96\n",
            "conv_1_kernel: 5\n",
            "conv_2_filter: 64\n",
            "conv_2_kernel: 3\n",
            "pool_1_size: 3\n",
            "conv_3_filter: 64\n",
            "conv_3_kernel: 5\n",
            "dense_1_units: 96\n",
            "learning_rate: 0.001\n",
            "Score: 0.6060606241226196\n",
            "Trial summary\n",
            "Hyperparameters:\n",
            "conv_1_filter: 80\n",
            "conv_1_kernel: 5\n",
            "conv_2_filter: 64\n",
            "conv_2_kernel: 3\n",
            "pool_1_size: 3\n",
            "conv_3_filter: 64\n",
            "conv_3_kernel: 5\n",
            "dense_1_units: 80\n",
            "learning_rate: 0.01\n",
            "Score: 0.39393940567970276\n",
            "Trial summary\n",
            "Hyperparameters:\n",
            "conv_1_filter: 128\n",
            "conv_1_kernel: 3\n",
            "conv_2_filter: 48\n",
            "conv_2_kernel: 3\n",
            "pool_1_size: 5\n",
            "conv_3_filter: 48\n",
            "conv_3_kernel: 3\n",
            "dense_1_units: 48\n",
            "learning_rate: 0.01\n",
            "Score: 0.39393940567970276\n",
            "Trial summary\n",
            "Hyperparameters:\n",
            "conv_1_filter: 48\n",
            "conv_1_kernel: 3\n",
            "conv_2_filter: 48\n",
            "conv_2_kernel: 3\n",
            "pool_1_size: 5\n",
            "conv_3_filter: 32\n",
            "conv_3_kernel: 3\n",
            "dense_1_units: 80\n",
            "learning_rate: 0.01\n",
            "Score: 0.39393940567970276\n"
          ],
          "name": "stdout"
        }
      ]
    },
    {
      "cell_type": "code",
      "metadata": {
        "id": "xYcdu4f7SskF"
      },
      "source": [
        "model=tuner_search.get_best_models(num_models=1)[0]"
      ],
      "execution_count": 341,
      "outputs": []
    },
    {
      "cell_type": "code",
      "metadata": {
        "colab": {
          "base_uri": "https://localhost:8080/"
        },
        "id": "akz_B-KJqKUa",
        "outputId": "da660293-ebf0-40d5-b09f-a0bc6a44559e"
      },
      "source": [
        "tuner_search.get_best_models(num_models=1)"
      ],
      "execution_count": 353,
      "outputs": [
        {
          "output_type": "execute_result",
          "data": {
            "text/plain": [
              "[<tensorflow.python.keras.engine.sequential.Sequential at 0x7fade42cfc10>]"
            ]
          },
          "metadata": {
            "tags": []
          },
          "execution_count": 353
        }
      ]
    },
    {
      "cell_type": "code",
      "metadata": {
        "colab": {
          "base_uri": "https://localhost:8080/"
        },
        "id": "-DN3jXpQTDD3",
        "outputId": "2aa310ac-8f71-4ae6-a867-be7a4639b5f1"
      },
      "source": [
        "model.summary()"
      ],
      "execution_count": 342,
      "outputs": [
        {
          "output_type": "stream",
          "text": [
            "Model: \"sequential\"\n",
            "_________________________________________________________________\n",
            "Layer (type)                 Output Shape              Param #   \n",
            "=================================================================\n",
            "conv2d (Conv2D)              (None, 222, 222, 96)      2688      \n",
            "_________________________________________________________________\n",
            "conv2d_1 (Conv2D)            (None, 220, 220, 48)      41520     \n",
            "_________________________________________________________________\n",
            "max_pooling2d (MaxPooling2D) (None, 73, 73, 48)        0         \n",
            "_________________________________________________________________\n",
            "dropout (Dropout)            (None, 73, 73, 48)        0         \n",
            "_________________________________________________________________\n",
            "conv2d_2 (Conv2D)            (None, 71, 71, 64)        27712     \n",
            "_________________________________________________________________\n",
            "flatten (Flatten)            (None, 322624)            0         \n",
            "_________________________________________________________________\n",
            "dense (Dense)                (None, 96)                30972000  \n",
            "_________________________________________________________________\n",
            "dense_1 (Dense)              (None, 3)                 291       \n",
            "=================================================================\n",
            "Total params: 31,044,211\n",
            "Trainable params: 31,044,211\n",
            "Non-trainable params: 0\n",
            "_________________________________________________________________\n"
          ],
          "name": "stdout"
        }
      ]
    },
    {
      "cell_type": "code",
      "metadata": {
        "id": "b1mLs_tRTEkF"
      },
      "source": [
        "model.save('covid_best.h5')"
      ],
      "execution_count": 345,
      "outputs": []
    },
    {
      "cell_type": "code",
      "metadata": {
        "colab": {
          "base_uri": "https://localhost:8080/"
        },
        "id": "0wPRESlYply8",
        "outputId": "bab0b854-172d-4275-9815-ff8c65d67261"
      },
      "source": [
        "model.evaluate(test)"
      ],
      "execution_count": 348,
      "outputs": [
        {
          "output_type": "stream",
          "text": [
            "3/3 [==============================] - 2s 364ms/step - loss: 0.2092 - accuracy: 0.9614\n"
          ],
          "name": "stdout"
        },
        {
          "output_type": "execute_result",
          "data": {
            "text/plain": [
              "[0.17356543242931366, 0.9696969985961914]"
            ]
          },
          "metadata": {
            "tags": []
          },
          "execution_count": 348
        }
      ]
    }
  ]
}